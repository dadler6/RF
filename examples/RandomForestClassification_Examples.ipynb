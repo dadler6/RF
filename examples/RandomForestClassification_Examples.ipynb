{
 "cells": [
  {
   "cell_type": "markdown",
   "metadata": {},
   "source": [
    "# Random Forest Classification Examples"
   ]
  },
  {
   "cell_type": "markdown",
   "metadata": {},
   "source": [
    "Will utilize the **RandomForest** from **RandomForest.py** to classify a set of training data.\n",
    "\n",
    "See specifics on the random forest code here: https://github.com/dadler6/RF/blob/master/src/RandomForest.py"
   ]
  },
  {
   "cell_type": "code",
   "execution_count": 1,
   "metadata": {
    "collapsed": true
   },
   "outputs": [],
   "source": [
    "import pandas as pd\n",
    "import matplotlib.pyplot as plt\n",
    "import seaborn as sns\n",
    "import sys"
   ]
  },
  {
   "cell_type": "code",
   "execution_count": 2,
   "metadata": {
    "collapsed": true
   },
   "outputs": [],
   "source": [
    "sys.path.insert(0, '../src')"
   ]
  },
  {
   "cell_type": "code",
   "execution_count": 15,
   "metadata": {
    "collapsed": true
   },
   "outputs": [],
   "source": [
    "from RandomForest import *"
   ]
  },
  {
   "cell_type": "code",
   "execution_count": 4,
   "metadata": {
    "collapsed": true
   },
   "outputs": [],
   "source": [
    "%matplotlib inline"
   ]
  },
  {
   "cell_type": "markdown",
   "metadata": {},
   "source": [
    "## Example 1: Iris Dataset"
   ]
  },
  {
   "cell_type": "markdown",
   "metadata": {},
   "source": [
    "A first simple test will utilize the Iris dataset, which is inlcuded [sklearn library]([sklearn library](http://scikit-learn.org/stable/auto_examples/datasets/plot_iris_dataset.html)."
   ]
  },
  {
   "cell_type": "code",
   "execution_count": 5,
   "metadata": {
    "collapsed": true
   },
   "outputs": [],
   "source": [
    "from sklearn import datasets"
   ]
  },
  {
   "cell_type": "code",
   "execution_count": 6,
   "metadata": {
    "collapsed": true
   },
   "outputs": [],
   "source": [
    "iris = datasets.load_iris()"
   ]
  },
  {
   "cell_type": "code",
   "execution_count": 7,
   "metadata": {
    "collapsed": true
   },
   "outputs": [],
   "source": [
    "X = pd.DataFrame(iris.data, columns=iris.feature_names)\n",
    "y = pd.get_dummies(iris.target)\n",
    "y.columns = iris.target_names"
   ]
  },
  {
   "cell_type": "code",
   "execution_count": 8,
   "metadata": {},
   "outputs": [
    {
     "name": "stdout",
     "output_type": "stream",
     "text": [
      "Number of training samples: 150\n",
      "Setosa breakdown (y,n): (50,100)\n",
      "Setosa breakdown (y,n): (50,100)\n",
      "Versicolor breakdown (y,n): (50,100)\n",
      "Virginica breakdown (y,n): (50,100)\n"
     ]
    }
   ],
   "source": [
    "print(\"Number of training samples: \" + str(X.shape[0]))\n",
    "print(\"Setosa breakdown (y,n): (\" + str(y['setosa'].sum()) + ',' + str(len(y) - y['setosa'].sum()) + ')')\n",
    "print(\"Setosa breakdown (y,n): (\" + str(y['setosa'].sum()) + ',' + str(len(y) - y['setosa'].sum()) + ')')\n",
    "print(\"Versicolor breakdown (y,n): (\" + str(y['versicolor'].sum()) + ',' + str(len(y) - y['versicolor'].sum()) + ')')\n",
    "print(\"Virginica breakdown (y,n): (\" + str(y['virginica'].sum()) + ',' + str(len(y) - y['virginica'].sum()) + ')')"
   ]
  },
  {
   "cell_type": "markdown",
   "metadata": {},
   "source": [
    "### Simple EDA and Data Cleaning"
   ]
  },
  {
   "cell_type": "markdown",
   "metadata": {},
   "source": [
    "Since this is a random forest, which should try to take care of overfitting, I will not worry too much about feature design, etc."
   ]
  },
  {
   "cell_type": "code",
   "execution_count": 11,
   "metadata": {},
   "outputs": [
    {
     "name": "stdout",
     "output_type": "stream",
     "text": [
      "sepal length (cm)    0\n",
      "sepal width (cm)     0\n",
      "petal length (cm)    0\n",
      "petal width (cm)     0\n",
      "dtype: int64\n",
      "\n",
      "setosa        0\n",
      "versicolor    0\n",
      "virginica     0\n",
      "dtype: int64\n"
     ]
    }
   ],
   "source": [
    "# Check to see if there are null values in X\n",
    "print(pd.isnull(X).sum())\n",
    "print()\n",
    "\n",
    "# Check to see if there are null values in y\n",
    "print(pd.isnull(y).sum())"
   ]
  },
  {
   "cell_type": "markdown",
   "metadata": {},
   "source": [
    "#### Get a basic test/train split\n",
    "\n",
    "Will utilize a train=0.67, test=0.33 split."
   ]
  },
  {
   "cell_type": "code",
   "execution_count": 12,
   "metadata": {
    "collapsed": true
   },
   "outputs": [],
   "source": [
    "from sklearn.model_selection import train_test_split"
   ]
  },
  {
   "cell_type": "code",
   "execution_count": 14,
   "metadata": {},
   "outputs": [],
   "source": [
    "X_train, X_test, y_train, y_test = train_test_split(\n",
    "    X, y, test_size=0.33, random_state=42\n",
    ")"
   ]
  },
  {
   "cell_type": "markdown",
   "metadata": {},
   "source": [
    "### Data fitting"
   ]
  },
  {
   "cell_type": "markdown",
   "metadata": {},
   "source": [
    "Will fit a random forest model to each of the flower types:\n",
    "* setosa\n",
    "* versicolor\n",
    "* virginica\n",
    "\n",
    "Will simply utilize a random forest that does a pure fit (each leaf node must be pure), and look at the out of back error (oob) for each of these."
   ]
  },
  {
   "cell_type": "code",
   "execution_count": 44,
   "metadata": {},
   "outputs": [
    {
     "name": "stdout",
     "output_type": "stream",
     "text": [
      "Setosa OOB Error: 0.0\n",
      "Versicolor OOB Error: 0.00197030075104\n",
      "Virginica OOB Error: 0.00248481683326\n"
     ]
    }
   ],
   "source": [
    "# Intialize each Random Forest\n",
    "rf_setosa = RandomForest(terminate='pure', oob=True)\n",
    "rf_versicolor = RandomForest(terminate='pure', oob=True)\n",
    "rf_virginica = RandomForest(terminate='pure', oob=True)\n",
    "\n",
    "# Fit each random forest\n",
    "rf_setosa.fit(X_train, y_train['setosa'])\n",
    "rf_versicolor.fit(X_train, y_train['versicolor'])\n",
    "rf_virginica.fit(X_train, y_train['virginica'])\n",
    "\n",
    "# Oob\n",
    "print('Setosa OOB Error: ' + str(rf_setosa.get_oob_error()))\n",
    "print('Versicolor OOB Error: ' + str(rf_versicolor.get_oob_error()))\n",
    "print('Virginica OOB Error: ' + str(rf_virginica.get_oob_error()))\n",
    "\n",
    "# Predict the train set\n",
    "y_setosa_pred = rf_setosa.predict(X_test)\n",
    "y_versicolor_pred = rf_versicolor.predict(X_test)\n",
    "y_virginica_pred = rf_virginica.predict(X_test)"
   ]
  },
  {
   "cell_type": "markdown",
   "metadata": {},
   "source": [
    "Now, I will look at the error for each random forest prediction using a confusion matrix."
   ]
  },
  {
   "cell_type": "code",
   "execution_count": 23,
   "metadata": {
    "collapsed": true
   },
   "outputs": [],
   "source": [
    "from sklearn.metrics import confusion_matrix"
   ]
  },
  {
   "cell_type": "code",
   "execution_count": 24,
   "metadata": {},
   "outputs": [
    {
     "data": {
      "text/plain": [
       "array([ 0.,  1.,  0.,  0.,  0.,  1.,  0.,  0.,  0.,  0.,  0.,  1.,  1.,\n",
       "        1.,  1.,  0.,  0.,  0.,  0.,  0.,  1.,  0.,  1.,  0.,  0.,  0.,\n",
       "        0.,  0.,  1.,  1.,  1.,  1.,  0.,  1.,  1.,  0.,  0.,  1.,  1.,\n",
       "        1.,  0.,  0.,  0.,  1.,  1.,  0.,  0.,  0.,  0.,  0.])"
      ]
     },
     "execution_count": 24,
     "metadata": {},
     "output_type": "execute_result"
    }
   ],
   "source": [
    "y_setosa_pred"
   ]
  },
  {
   "cell_type": "code",
   "execution_count": 25,
   "metadata": {},
   "outputs": [
    {
     "name": "stdout",
     "output_type": "stream",
     "text": [
      "Setosa Confusion\n",
      "[[31  0]\n",
      " [ 0 19]]\n",
      "\n",
      "Versicolor Confusion\n",
      "[[34  1]\n",
      " [ 0 15]]\n",
      "\n",
      "Virginica Confusion\n",
      "[[34  0]\n",
      " [ 1 15]]\n",
      "\n"
     ]
    }
   ],
   "source": [
    "confusion_setosa = confusion_matrix(y_test['setosa'], y_setosa_pred)\n",
    "confusion_versicolor = confusion_matrix(y_test['versicolor'], y_versicolor_pred)\n",
    "confusion_virginica = confusion_matrix(y_test['virginica'], y_virginica_pred)\n",
    "\n",
    "print('Setosa Confusion')\n",
    "print(confusion_setosa)\n",
    "print()\n",
    "\n",
    "print('Versicolor Confusion')\n",
    "print(confusion_versicolor)\n",
    "print()\n",
    "\n",
    "print('Virginica Confusion')\n",
    "print(confusion_virginica)\n",
    "print()"
   ]
  },
  {
   "cell_type": "markdown",
   "metadata": {},
   "source": [
    "There is one data point, as there was on the previous DT example, that is being missclassified as Versicolor, when it should be Virginica.\n",
    "\n",
    "See this datapoint on this link:\n",
    "https://github.com/dadler6/RF/blob/master/examples/DecisionTreeClassification_Examples.ipynb"
   ]
  },
  {
   "cell_type": "markdown",
   "metadata": {},
   "source": [
    "### Look at one dimensional form of test data"
   ]
  },
  {
   "cell_type": "markdown",
   "metadata": {},
   "source": [
    "I am going to look at the one-dimensional form of test data to see which parameter produces the most differentiation within this example."
   ]
  },
  {
   "cell_type": "code",
   "execution_count": 35,
   "metadata": {},
   "outputs": [],
   "source": [
    "# Put the target data with X to be able to look at each axis\n",
    "X_train_w_target = X_train.copy()\n",
    "X_train_w_target['Flower'] = iris.target[X_train_w_target.index.values]\n",
    "X_train_w_target.Flower = X_train_w_target.Flower.map({0: 'Setosa', 1: 'Versicolor', 2: 'Virginica'})"
   ]
  },
  {
   "cell_type": "code",
   "execution_count": 37,
   "metadata": {},
   "outputs": [
    {
     "data": {
      "text/plain": [
       "<matplotlib.axes._subplots.AxesSubplot at 0x1a0ae70a20>"
      ]
     },
     "execution_count": 37,
     "metadata": {},
     "output_type": "execute_result"
    },
    {
     "data": {
      "image/png": "[encoded data removed]",
      "text/plain": [
       "<matplotlib.figure.Figure at 0x1a0af174e0>"
      ]
     },
     "metadata": {},
     "output_type": "display_data"
    }
   ],
   "source": [
    "# Look at the\n",
    "fig = plt.figure(figsize=(10, 5))\n",
    "sns.swarmplot(x='Flower', y='sepal length (cm)', data=X_train_w_target)"
   ]
  },
  {
   "cell_type": "code",
   "execution_count": 39,
   "metadata": {
    "scrolled": true
   },
   "outputs": [
    {
     "data": {
      "text/plain": [
       "<matplotlib.axes._subplots.AxesSubplot at 0x1a0af1ffd0>"
      ]
     },
     "execution_count": 39,
     "metadata": {},
     "output_type": "execute_result"
    },
    {
     "data": {
      "image/png": "[encoded data removed]",
      "text/plain": [
       "<matplotlib.figure.Figure at 0x1a0ae6ae10>"
      ]
     },
     "metadata": {},
     "output_type": "display_data"
    }
   ],
   "source": [
    "# Look at the\n",
    "fig = plt.figure(figsize=(10, 5))\n",
    "sns.swarmplot(x='Flower', y='sepal width (cm)', data=X_train_w_target)"
   ]
  },
  {
   "cell_type": "code",
   "execution_count": 41,
   "metadata": {},
   "outputs": [
    {
     "data": {
      "text/plain": [
       "<matplotlib.axes._subplots.AxesSubplot at 0x1a0ae52c88>"
      ]
     },
     "execution_count": 41,
     "metadata": {},
     "output_type": "execute_result"
    },
    {
     "data": {
      "image/png": "[encoded data removed]",
      "text/plain": [
       "<matplotlib.figure.Figure at 0x1a0ae82320>"
      ]
     },
     "metadata": {},
     "output_type": "display_data"
    }
   ],
   "source": [
    "# Look at the\n",
    "fig = plt.figure(figsize=(10, 5))\n",
    "sns.swarmplot(x='Flower', y='petal length (cm)', data=X_train_w_target)"
   ]
  },
  {
   "cell_type": "code",
   "execution_count": 42,
   "metadata": {},
   "outputs": [
    {
     "data": {
      "text/plain": [
       "<matplotlib.axes._subplots.AxesSubplot at 0x1a0aa79550>"
      ]
     },
     "execution_count": 42,
     "metadata": {},
     "output_type": "execute_result"
    },
    {
     "data": {
      "image/png": "[encoded data removed]",
      "text/plain": [
       "<matplotlib.figure.Figure at 0x1a0ae42780>"
      ]
     },
     "metadata": {},
     "output_type": "display_data"
    }
   ],
   "source": [
    "# Look at the\n",
    "fig = plt.figure(figsize=(10, 5))\n",
    "sns.swarmplot(x='Flower', y='petal width (cm)', data=X_train_w_target)"
   ]
  },
  {
   "cell_type": "markdown",
   "metadata": {},
   "source": [
    "### Adjust trees"
   ]
  },
  {
   "cell_type": "markdown",
   "metadata": {},
   "source": [
    "Since there are a low amount of training examples to begin with, I am going to change the following:\n",
    "\n",
    "* Increase the sample size though within each tree from the default of 0.5 -> 0.75\n",
    "* Increase the number of trees from 10 -> 20"
   ]
  },
  {
   "cell_type": "code",
   "execution_count": 65,
   "metadata": {},
   "outputs": [
    {
     "name": "stdout",
     "output_type": "stream",
     "text": [
      "Setosa OOB Error: 0.0\n",
      "Versicolor OOB Error: 0.00303059018263\n",
      "Virginica OOB Error: 0.00214250164832\n"
     ]
    }
   ],
   "source": [
    "# Intialize each Random Forest\n",
    "rf_setosa_2 = RandomForest(samp_size=0.9, terminate='leaf', leaf_terminate=1, num_trees=20, oob=True)\n",
    "rf_versicolor_2 = RandomForest(samp_size=0.9, terminate='leaf', leaf_terminate=1, num_trees=20, oob=True)\n",
    "rf_virginica_2 = RandomForest(samp_size=0.9, terminate='leaf', leaf_terminate=1, num_trees=20, oob=True)\n",
    "\n",
    "# Fit each random forest\n",
    "rf_setosa_2.fit(X_train, y_train['setosa'])\n",
    "rf_versicolor_2.fit(X_train, y_train['versicolor'])\n",
    "rf_virginica_2.fit(X_train, y_train['virginica'])\n",
    "\n",
    "# Oob\n",
    "print('Setosa OOB Error: ' + str(rf_setosa_2.get_oob_error()))\n",
    "print('Versicolor OOB Error: ' + str(rf_versicolor_2.get_oob_error()))\n",
    "print('Virginica OOB Error: ' + str(rf_virginica_2.get_oob_error()))"
   ]
  },
  {
   "cell_type": "markdown",
   "metadata": {},
   "source": [
    "It appears the original RFs were the best match for this, and likely the oob is just an outlier value."
   ]
  },
  {
   "cell_type": "markdown",
   "metadata": {},
   "source": [
    "## Example 2: Titanic data\n",
    "\n",
    "This data is based upon the (Kaggle Titanic Competition)[https://www.kaggle.com/c/titanic].  I had previously cleaned the data in this notebook:\n",
    "\n",
    "https://github.com/dadler6/kaggle_titanic/blob/master/notebooks/Cleaning_and_EDA.ipynb\n",
    "\n",
    "and then implemented an sklearn RF Classifier in this notebook:\n",
    "\n",
    "https://github.com/dadler6/kaggle_titanic/blob/master/notebooks/RF_Classifier.ipynb\n",
    "\n",
    "You can find the cleaned data within this folder:\n",
    "\n",
    "https://github.com/dadler6/RF/tree/master/data"
   ]
  },
  {
   "cell_type": "code",
   "execution_count": 113,
   "metadata": {},
   "outputs": [],
   "source": [
    "train = pd.read_csv('../data/train_cleaned_v2_02110218.csv')\n",
    "test = pd.read_csv('../data/test_cleaned_v1_05302018.csv')"
   ]
  },
  {
   "cell_type": "markdown",
   "metadata": {},
   "source": [
    "### Brief EDA"
   ]
  },
  {
   "cell_type": "code",
   "execution_count": 71,
   "metadata": {
    "collapsed": true
   },
   "outputs": [],
   "source": [
    "# Separate out the columns for input -> target\n",
    "cols_train = ['Pclass', 'Sex', 'Age', 'SibSp', 'Parch', 'Fare', 'Embarked_C', 'Embarked_S']\n",
    "cols_target = ['Survived']"
   ]
  },
  {
   "cell_type": "code",
   "execution_count": 74,
   "metadata": {},
   "outputs": [
    {
     "data": {
      "text/html": [
       "<div>\n",
       "<style>\n",
       "    .dataframe thead tr:only-child th {\n",
       "        text-align: right;\n",
       "    }\n",
       "\n",
       "    .dataframe thead th {\n",
       "        text-align: left;\n",
       "    }\n",
       "\n",
       "    .dataframe tbody tr th {\n",
       "        vertical-align: top;\n",
       "    }\n",
       "</style>\n",
       "<table border=\"1\" class=\"dataframe\">\n",
       "  <thead>\n",
       "    <tr style=\"text-align: right;\">\n",
       "      <th></th>\n",
       "      <th>Survived</th>\n",
       "      <th>Pclass</th>\n",
       "      <th>Sex</th>\n",
       "      <th>Age</th>\n",
       "      <th>SibSp</th>\n",
       "      <th>Parch</th>\n",
       "      <th>Fare</th>\n",
       "      <th>Embarked_C</th>\n",
       "      <th>Embarked_S</th>\n",
       "    </tr>\n",
       "  </thead>\n",
       "  <tbody>\n",
       "    <tr>\n",
       "      <th>0</th>\n",
       "      <td>0</td>\n",
       "      <td>2.560297</td>\n",
       "      <td>0.853432</td>\n",
       "      <td>30.14564</td>\n",
       "      <td>0.552876</td>\n",
       "      <td>0.309833</td>\n",
       "      <td>18.768458</td>\n",
       "      <td>0.131725</td>\n",
       "      <td>0.781076</td>\n",
       "    </tr>\n",
       "    <tr>\n",
       "      <th>1</th>\n",
       "      <td>1</td>\n",
       "      <td>2.035032</td>\n",
       "      <td>0.334395</td>\n",
       "      <td>27.93551</td>\n",
       "      <td>0.458599</td>\n",
       "      <td>0.445860</td>\n",
       "      <td>32.990500</td>\n",
       "      <td>0.251592</td>\n",
       "      <td>0.646497</td>\n",
       "    </tr>\n",
       "  </tbody>\n",
       "</table>\n",
       "</div>"
      ],
      "text/plain": [
       "   Survived    Pclass       Sex       Age     SibSp     Parch       Fare  \\\n",
       "0         0  2.560297  0.853432  30.14564  0.552876  0.309833  18.768458   \n",
       "1         1  2.035032  0.334395  27.93551  0.458599  0.445860  32.990500   \n",
       "\n",
       "   Embarked_C  Embarked_S  \n",
       "0    0.131725    0.781076  \n",
       "1    0.251592    0.646497  "
      ]
     },
     "execution_count": 74,
     "metadata": {},
     "output_type": "execute_result"
    }
   ],
   "source": [
    "# Groupby and just look at mean value of each variable separated by survived/not survived\n",
    "train.groupby(cols_target, as_index=False)[cols_train].mean()"
   ]
  },
  {
   "cell_type": "markdown",
   "metadata": {},
   "source": [
    "It appears that the following columns have the greatest impact on survival:\n",
    "\n",
    "* Sex\n",
    "* Fare\n",
    "* Embarked_C"
   ]
  },
  {
   "cell_type": "code",
   "execution_count": 80,
   "metadata": {},
   "outputs": [],
   "source": [
    "# Grab the data\n",
    "X_titanic = train[cols_train].copy()\n",
    "y_titanic = train['Survived'].copy()"
   ]
  },
  {
   "cell_type": "markdown",
   "metadata": {},
   "source": [
    "### Train data\n",
    "\n",
    "Will use the number of features as sqrt(total features)"
   ]
  },
  {
   "cell_type": "code",
   "execution_count": 83,
   "metadata": {},
   "outputs": [
    {
     "name": "stdout",
     "output_type": "stream",
     "text": [
      "OOB Error: 0.0295598491497\n"
     ]
    }
   ],
   "source": [
    "# Initialize RF\n",
    "rf_titanic = RandomForest(num_features=int(np.sqrt(X_titanic.shape[1])), terminate='pure', oob=True)\n",
    "\n",
    "# Fit\n",
    "rf_titanic.fit(X_titanic, y_titanic)\n",
    "\n",
    "# Print oob\n",
    "print('OOB Error: ' + str(rf_titanic.get_oob_error()))"
   ]
  },
  {
   "cell_type": "markdown",
   "metadata": {},
   "source": [
    "Look at how the data is being predicted:"
   ]
  },
  {
   "cell_type": "code",
   "execution_count": 86,
   "metadata": {},
   "outputs": [
    {
     "name": "stdout",
     "output_type": "stream",
     "text": [
      "[[ 0.63071512  0.00117233]\n",
      " [ 0.24384525  0.12426729]]\n"
     ]
    }
   ],
   "source": [
    "# Predict on the training data\n",
    "y_pred = rf_titanic.predict(X_titanic)\n",
    "\n",
    "# Confusion matrix\n",
    "C = confusion_matrix(y_titanic, y_pred)\n",
    "# Normalize\n",
    "C = C / C.astype(float).sum().sum()\n",
    "\n",
    "# Print\n",
    "print(C)"
   ]
  },
  {
   "cell_type": "markdown",
   "metadata": {},
   "source": [
    "There is a HUGE false negative rate.  This typically means that the data is being underfit. I will increase the number of samples per model, and decrease the number of trees."
   ]
  },
  {
   "cell_type": "code",
   "execution_count": 97,
   "metadata": {},
   "outputs": [
    {
     "name": "stdout",
     "output_type": "stream",
     "text": [
      "OOB Error: 0.00518360670465\n"
     ]
    }
   ],
   "source": [
    "# Initialize RF\n",
    "rf_titanic = RandomForest(\n",
    "    samp_size=0.85, \n",
    "    num_trees=5, \n",
    "    num_features=int(np.sqrt(X_titanic.shape[1])), \n",
    "    terminate='pure', \n",
    "    oob=True\n",
    ")\n",
    "\n",
    "# Fit\n",
    "rf_titanic.fit(X_titanic, y_titanic)\n",
    "\n",
    "# Print oob\n",
    "print('OOB Error: ' + str(rf_titanic.get_oob_error()))"
   ]
  },
  {
   "cell_type": "code",
   "execution_count": 100,
   "metadata": {},
   "outputs": [
    {
     "name": "stdout",
     "output_type": "stream",
     "text": [
      "[[ 0.58147714  0.05041032]\n",
      " [ 0.15826495  0.2098476 ]]\n"
     ]
    }
   ],
   "source": [
    "# Predict on the training data\n",
    "y_pred = rf_titanic.predict(X_titanic)\n",
    "\n",
    "# Confusion matrix\n",
    "C = confusion_matrix(y_titanic, y_pred)\n",
    "# Normalize\n",
    "C = C / C.astype(float).sum().sum()\n",
    "\n",
    "# Print\n",
    "print(C)"
   ]
  },
  {
   "cell_type": "markdown",
   "metadata": {},
   "source": [
    "Save this random forest"
   ]
  },
  {
   "cell_type": "code",
   "execution_count": 107,
   "metadata": {},
   "outputs": [],
   "source": [
    "import pickle\n",
    "\n",
    "with open('../data/rf_titanic_v1_05302018.pkl', 'wb') as output:\n",
    "    pickle.dump(rf_titanic, output, pickle.HIGHEST_PROTOCOL)"
   ]
  },
  {
   "cell_type": "markdown",
   "metadata": {},
   "source": [
    "### Predict test data\n",
    "\n",
    "Now I will predict on the actual data and save."
   ]
  },
  {
   "cell_type": "code",
   "execution_count": 116,
   "metadata": {
    "collapsed": true
   },
   "outputs": [],
   "source": [
    "y_pred_test = rf_titanic.predict(test[cols_train])"
   ]
  },
  {
   "cell_type": "code",
   "execution_count": 122,
   "metadata": {},
   "outputs": [],
   "source": [
    "y_test_df = pd.DataFrame({\n",
    "    'PassengerId': test.PassengerId.values,\n",
    "    'Survived': y_pred_test\n",
    "})"
   ]
  },
  {
   "cell_type": "code",
   "execution_count": 126,
   "metadata": {},
   "outputs": [],
   "source": [
    "y_test_df['PassengerId'] = y_test_df['PassengerId'].astype(int)\n",
    "y_test_df['Survived'] = y_test_df['Survived'].astype(int)"
   ]
  },
  {
   "cell_type": "code",
   "execution_count": 128,
   "metadata": {},
   "outputs": [],
   "source": [
    "y_test_df.to_csv('../data/y_test_titanic_v1_05302018.csv', index=False)"
   ]
  },
  {
   "cell_type": "code",
   "execution_count": 129,
   "metadata": {},
   "outputs": [
    {
     "data": {
      "text/plain": [
       "0.30861244019138756"
      ]
     },
     "execution_count": 129,
     "metadata": {},
     "output_type": "execute_result"
    }
   ],
   "source": [
    "y_test_df.Survived.mean()"
   ]
  },
  {
   "cell_type": "markdown",
   "metadata": {},
   "source": [
    "## More changes to the data"
   ]
  },
  {
   "cell_type": "markdown",
   "metadata": {},
   "source": [
    "The data was submitted on Kaggle and received a 0.73205 prediction rate.\n",
    "\n",
    "Will now make a test set to really look at accuracy."
   ]
  },
  {
   "cell_type": "code",
   "execution_count": 132,
   "metadata": {},
   "outputs": [],
   "source": [
    "X_train, X_test, y_train, y_test = train_test_split(\n",
    "    train[cols_train], train['Survived'], test_size=0.25, random_state=42\n",
    ")"
   ]
  },
  {
   "cell_type": "code",
   "execution_count": 139,
   "metadata": {},
   "outputs": [
    {
     "name": "stdout",
     "output_type": "stream",
     "text": [
      "OOB Error: 0.00948574561524\n",
      "\n",
      "TP: 0.546728971963\n",
      "FP: 0.11214953271\n",
      "FN: 0.182242990654\n",
      "TN: 0.158878504673\n",
      "\n",
      "Accuracy: 0.705607476636\n"
     ]
    }
   ],
   "source": [
    "# Initialize RF\n",
    "rf_titanic = RandomForest(\n",
    "    samp_size=0.85, \n",
    "    num_trees=5, \n",
    "    num_features=int(np.sqrt(X_titanic.shape[1])), \n",
    "    terminate='pure', \n",
    "    oob=True\n",
    ")\n",
    "\n",
    "# Fit\n",
    "rf_titanic.fit(X_train, y_train)\n",
    "\n",
    "# Print oob\n",
    "print('OOB Error: ' + str(rf_titanic.get_oob_error()))\n",
    "print()\n",
    "\n",
    "# Get confusion matrix stats\n",
    "# Predict on the training data\n",
    "y_pred = rf_titanic.predict(X_test)\n",
    "\n",
    "# Accuracy\n",
    "C = confusion_matrix(y_test, y_pred)\n",
    "# Normalize\n",
    "C = C / C.astype(float).sum().sum()\n",
    "\n",
    "# Print\n",
    "print('TP: ' + str(C[0, 0]))\n",
    "print('FP: ' + str(C[0, 1]))\n",
    "print('FN: ' + str(C[1, 0]))\n",
    "print('TN: ' + str(C[1, 1]))\n",
    "print()\n",
    "\n",
    "# Accuraxy\n",
    "print('Accuracy: ' + str(C[0, 0] + C[1, 1]))"
   ]
  },
  {
   "cell_type": "markdown",
   "metadata": {},
   "source": [
    "Since there is a high FN rate, will try to balance classes by taking a random sample of the smaller class (survived) and duplicating it."
   ]
  },
  {
   "cell_type": "code",
   "execution_count": 148,
   "metadata": {},
   "outputs": [
    {
     "name": "stdout",
     "output_type": "stream",
     "text": [
      "Will sample: 157 rows.\n",
      "\n",
      "Class sizes:\n",
      "1    0.5\n",
      "0    0.5\n",
      "Name: Survived, dtype: float64\n"
     ]
    }
   ],
   "source": [
    "# Get the amount of rows to sample\n",
    "total_not_survived = len(y_train.loc[y_train == 0])\n",
    "amount_to_sample = total_not_survived - len(y_train.loc[y_train == 1])\n",
    "\n",
    "print('Will sample: ' + str(amount_to_sample) + ' rows.')\n",
    "print()\n",
    "\n",
    "# Sample that amount of rows in the dataset\n",
    "samp_index = np.random.choice(y_train[y_train == 1].index.values, size=amount_to_sample, replace=True)\n",
    "\n",
    "# Contenate\n",
    "y_new = y_train.loc[samp_index]\n",
    "X_new = X_train.loc[samp_index, :]\n",
    "\n",
    "X_train_balance = pd.concat([X_train, X_new])\n",
    "y_train_balance = pd.concat([y_train, y_new])\n",
    "\n",
    "# Print the new class balance\n",
    "print('Class sizes:')\n",
    "print(y_train_balance.value_counts(normalize=True))"
   ]
  },
  {
   "cell_type": "markdown",
   "metadata": {},
   "source": [
    "Fit a model"
   ]
  },
  {
   "cell_type": "code",
   "execution_count": 149,
   "metadata": {},
   "outputs": [
    {
     "name": "stdout",
     "output_type": "stream",
     "text": [
      "OOB Error: 0.0126484744539\n",
      "\n",
      "TP: 0.495327102804\n",
      "FP: 0.163551401869\n",
      "FN: 0.130841121495\n",
      "TN: 0.210280373832\n",
      "\n",
      "Accuracy: 0.705607476636\n"
     ]
    }
   ],
   "source": [
    "# Initialize RF\n",
    "rf_titanic_balanced = RandomForest(\n",
    "    samp_size=0.85, \n",
    "    num_trees=5, \n",
    "    num_features=int(np.sqrt(X_titanic.shape[1])), \n",
    "    terminate='pure', \n",
    "    oob=True\n",
    ")\n",
    "\n",
    "# Fit\n",
    "rf_titanic_balanced.fit(X_train_balance, y_train_balance)\n",
    "\n",
    "# Print oob\n",
    "print('OOB Error: ' + str(rf_titanic_balanced.get_oob_error()))\n",
    "print()\n",
    "\n",
    "# Get confusion matrix stats\n",
    "# Predict on the training data\n",
    "y_pred = rf_titanic_balanced.predict(X_test)\n",
    "\n",
    "# Accuracy\n",
    "C = confusion_matrix(y_test, y_pred)\n",
    "# Normalize\n",
    "C = C / C.astype(float).sum().sum()\n",
    "\n",
    "# Print\n",
    "print('TP: ' + str(C[0, 0]))\n",
    "print('FP: ' + str(C[0, 1]))\n",
    "print('FN: ' + str(C[1, 0]))\n",
    "print('TN: ' + str(C[1, 1]))\n",
    "print()\n",
    "\n",
    "# Accuraxy\n",
    "print('Accuracy: ' + str(C[0, 0] + C[1, 1]))"
   ]
  },
  {
   "cell_type": "markdown",
   "metadata": {},
   "source": [
    "FN dropped by 5% which is good, but the FP went up.  Will now try to drop the sample size and increase the number of trees to decrease overfitting."
   ]
  },
  {
   "cell_type": "code",
   "execution_count": 168,
   "metadata": {},
   "outputs": [
    {
     "name": "stdout",
     "output_type": "stream",
     "text": [
      "OOB Error: 0.00114444659939\n",
      "\n",
      "TP: 0.542056074766\n",
      "FP: 0.116822429907\n",
      "FN: 0.0934579439252\n",
      "TN: 0.247663551402\n",
      "\n",
      "Accuracy: 0.789719626168\n"
     ]
    }
   ],
   "source": [
    "# Initialize RF\n",
    "rf_titanic_balanced_2 = RandomForest(\n",
    "    samp_size=0.5, \n",
    "    num_trees=30, \n",
    "    terminate='leaf', \n",
    "    leaf_terminate=10,\n",
    "    oob=True\n",
    ")\n",
    "\n",
    "# Fit\n",
    "rf_titanic_balanced_2.fit(X_train_balance, y_train_balance)\n",
    "\n",
    "# Print oob\n",
    "print('OOB Error: ' + str(rf_titanic_balanced_2.get_oob_error()))\n",
    "print()\n",
    "\n",
    "# Get confusion matrix stats\n",
    "# Predict on the training data\n",
    "y_pred = rf_titanic_balanced_2.predict(X_test)\n",
    "\n",
    "# Accuracy\n",
    "C = confusion_matrix(y_test, y_pred)\n",
    "# Normalize\n",
    "C = C / C.astype(float).sum().sum()\n",
    "\n",
    "# Print\n",
    "print('TP: ' + str(C[0, 0]))\n",
    "print('FP: ' + str(C[0, 1]))\n",
    "print('FN: ' + str(C[1, 0]))\n",
    "print('TN: ' + str(C[1, 1]))\n",
    "print()\n",
    "\n",
    "# Accuraxy\n",
    "print('Accuracy: ' + str(C[0, 0] + C[1, 1]))"
   ]
  },
  {
   "cell_type": "markdown",
   "metadata": {},
   "source": [
    "Save this tree due to 10% or so improvement (FP rate is still high)."
   ]
  },
  {
   "cell_type": "code",
   "execution_count": 169,
   "metadata": {
    "collapsed": true
   },
   "outputs": [],
   "source": [
    "import pickle\n",
    "\n",
    "with open('../data/rf_titanic_v2_05302018.pkl', 'wb') as output:\n",
    "    pickle.dump(rf_titanic_balanced_2, output, pickle.HIGHEST_PROTOCOL)"
   ]
  },
  {
   "cell_type": "code",
   "execution_count": 170,
   "metadata": {
    "collapsed": true
   },
   "outputs": [],
   "source": [
    "y_pred_test_2 = rf_titanic_balanced_2.predict(test[cols_train])"
   ]
  },
  {
   "cell_type": "code",
   "execution_count": 172,
   "metadata": {
    "collapsed": true
   },
   "outputs": [],
   "source": [
    "y_test_df_2 = pd.DataFrame({\n",
    "    'PassengerId': test.PassengerId.values,\n",
    "    'Survived': y_pred_test_2\n",
    "})\n",
    "\n",
    "y_test_df_2['PassengerId'] = y_test_df_2['PassengerId'].astype(int)\n",
    "y_test_df_2['Survived'] = y_test_df_2['Survived'].astype(int)"
   ]
  },
  {
   "cell_type": "code",
   "execution_count": 173,
   "metadata": {
    "collapsed": true
   },
   "outputs": [],
   "source": [
    "y_test_df_2.to_csv('../data/y_test_titanic_v2_05302018.csv', index=False)"
   ]
  }
 ],
 "metadata": {
  "kernelspec": {
   "display_name": "Python [conda root]",
   "language": "python",
   "name": "conda-root-py"
  },
  "language_info": {
   "codemirror_mode": {
    "name": "ipython",
    "version": 3
   },
   "file_extension": ".py",
   "mimetype": "text/x-python",
   "name": "python",
   "nbconvert_exporter": "python",
   "pygments_lexer": "ipython3",
   "version": "3.5.4"
  }
 },
 "nbformat": 4,
 "nbformat_minor": 2
}
